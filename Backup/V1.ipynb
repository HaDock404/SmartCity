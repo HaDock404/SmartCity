{
 "cells": [
  {
   "cell_type": "code",
   "execution_count": 186,
   "id": "43688b37",
   "metadata": {},
   "outputs": [
    {
     "data": {
      "text/html": [
       "<div>\n",
       "<style scoped>\n",
       "    .dataframe tbody tr th:only-of-type {\n",
       "        vertical-align: middle;\n",
       "    }\n",
       "\n",
       "    .dataframe tbody tr th {\n",
       "        vertical-align: top;\n",
       "    }\n",
       "\n",
       "    .dataframe thead th {\n",
       "        text-align: right;\n",
       "    }\n",
       "</style>\n",
       "<table border=\"1\" class=\"dataframe\">\n",
       "  <thead>\n",
       "    <tr style=\"text-align: right;\">\n",
       "      <th></th>\n",
       "      <th>id;type_emplacement;domanialite;arrondissement;complement_addresse;numero;lieu;id_emplacement;libelle_francais;genre;espece;variete;circonference_cm;hauteur_m;stade_developpement;remarquable;geo_point_2d_a;geo_point_2d_b</th>\n",
       "    </tr>\n",
       "  </thead>\n",
       "  <tbody>\n",
       "    <tr>\n",
       "      <th>0</th>\n",
       "      <td>99874;Arbre;Jardin;PARIS 7E ARRDT;;;MAIRIE DU ...</td>\n",
       "    </tr>\n",
       "    <tr>\n",
       "      <th>1</th>\n",
       "      <td>99875;Arbre;Jardin;PARIS 7E ARRDT;;;MAIRIE DU ...</td>\n",
       "    </tr>\n",
       "    <tr>\n",
       "      <th>2</th>\n",
       "      <td>99876;Arbre;Jardin;PARIS 7E ARRDT;;;MAIRIE DU ...</td>\n",
       "    </tr>\n",
       "    <tr>\n",
       "      <th>3</th>\n",
       "      <td>99877;Arbre;Jardin;PARIS 7E ARRDT;;;MAIRIE DU ...</td>\n",
       "    </tr>\n",
       "    <tr>\n",
       "      <th>4</th>\n",
       "      <td>99878;Arbre;Jardin;PARIS 17E ARRDT;;;PARC CLIC...</td>\n",
       "    </tr>\n",
       "  </tbody>\n",
       "</table>\n",
       "</div>"
      ],
      "text/plain": [
       "  id;type_emplacement;domanialite;arrondissement;complement_addresse;numero;lieu;id_emplacement;libelle_francais;genre;espece;variete;circonference_cm;hauteur_m;stade_developpement;remarquable;geo_point_2d_a;geo_point_2d_b\n",
       "0  99874;Arbre;Jardin;PARIS 7E ARRDT;;;MAIRIE DU ...                                                                                                                                                                          \n",
       "1  99875;Arbre;Jardin;PARIS 7E ARRDT;;;MAIRIE DU ...                                                                                                                                                                          \n",
       "2  99876;Arbre;Jardin;PARIS 7E ARRDT;;;MAIRIE DU ...                                                                                                                                                                          \n",
       "3  99877;Arbre;Jardin;PARIS 7E ARRDT;;;MAIRIE DU ...                                                                                                                                                                          \n",
       "4  99878;Arbre;Jardin;PARIS 17E ARRDT;;;PARC CLIC...                                                                                                                                                                          "
      ]
     },
     "execution_count": 186,
     "metadata": {},
     "output_type": "execute_result"
    }
   ],
   "source": [
    "import pandas as pd\n",
    "import numpy as np\n",
    "import re\n",
    "\n",
    "#chargement et affichage des données\n",
    "tableau1 = pd.read_fwf('p2-arbres-fr.csv')\n",
    "tableau1\n",
    "tableau1.head()"
   ]
  },
  {
   "cell_type": "code",
   "execution_count": 187,
   "id": "9af49292",
   "metadata": {},
   "outputs": [
    {
     "data": {
      "text/plain": [
       "array(['99874;Arbre;Jardin;PARIS 7E ARRDT;;;MAIRIE DU 7E 116 RUE DE GRENELLE PARIS 7E;19;Marronnier;Aesculus;hippocastanum;;20;5;;0;48.8576199541;2.3209621099'],\n",
       "      dtype=object)"
      ]
     },
     "execution_count": 187,
     "metadata": {},
     "output_type": "execute_result"
    }
   ],
   "source": [
    "tableau2 = pd.read_csv('p2-arbres-fr.csv')\n",
    "data = np.array(tableau2)\n",
    "#sélection d'une ligne entière\n",
    "data[0, :]"
   ]
  },
  {
   "cell_type": "code",
   "execution_count": 188,
   "id": "5478fb93",
   "metadata": {},
   "outputs": [
    {
     "name": "stdout",
     "output_type": "stream",
     "text": [
      "[['Lundi' 'Mardi' 'Mercredi' 'Jeudi']\n",
      " ['12' '15' '11' '18']]\n"
     ]
    }
   ],
   "source": [
    "comptes = np.array([['Lundi', 'Mardi', 'Mercredi', 'Jeudi'], [12, 15, 11, 18]])\n",
    "print(comptes)"
   ]
  },
  {
   "cell_type": "code",
   "execution_count": 189,
   "id": "d2ac12da",
   "metadata": {},
   "outputs": [],
   "source": [
    "import numpy as np\n",
    "import pandas as pd\n",
    "\n",
    "A = np.random.randint(0, 10, size=36).reshape(6, 6)\n",
    "names = ['test1', 'test2','test3','test4','tes5','test6',]\n",
    "df = pd.DataFrame(A, index=names, columns=names)\n",
    "df.to_csv('df.csv', index=True, header=True, sep=' ')"
   ]
  },
  {
   "cell_type": "code",
   "execution_count": 190,
   "id": "44c88093",
   "metadata": {},
   "outputs": [
    {
     "name": "stdout",
     "output_type": "stream",
     "text": [
      "   test1 test2 test3 test4 tes5 test6\n",
      "0                   test1 6 0 3 2 9 8\n",
      "1                   test2 5 0 2 6 6 0\n",
      "2                   test3 6 2 6 3 7 7\n",
      "3                   test4 7 6 0 3 7 1\n",
      "4                    tes5 2 3 1 1 0 6\n",
      "5                   test6 3 6 2 6 2 2\n"
     ]
    }
   ],
   "source": [
    "dataX = pd.read_csv('df.csv')\n",
    "print(dataX)"
   ]
  },
  {
   "cell_type": "code",
   "execution_count": 191,
   "id": "f453b979",
   "metadata": {},
   "outputs": [
    {
     "name": "stdout",
     "output_type": "stream",
     "text": [
      "  date_operation,libelle,montant,solde_avt_ope,categ\n",
      "0  2023-03-31,DON XX XX XX XX XX XX XX,-1.44,1515...\n",
      "1  2023-04-03,CARTE XX XX RAPT XX,-24.0,1513.81,T...\n",
      "2  2023-04-03,CARTE XX XX RAPT XX,-73.0,1489.81,T...\n",
      "3  2023-04-03,VIREMENT XX XX XX XX XX XX XX XX XX...\n"
     ]
    }
   ],
   "source": [
    "import pandas as pd\n",
    "\n",
    "#chargement et affichage des données\n",
    "tableauX = pd.read_fwf('testtab.csv')\n",
    "print(tableauX)"
   ]
  },
  {
   "cell_type": "code",
   "execution_count": 192,
   "id": "bc2de521",
   "metadata": {},
   "outputs": [
    {
     "name": "stdout",
     "output_type": "stream",
     "text": [
      "     Name  Age\n",
      "0    Alex   10\n",
      "1     Bob   12\n",
      "2  Clarke   13\n"
     ]
    },
    {
     "data": {
      "text/html": [
       "<div>\n",
       "<style scoped>\n",
       "    .dataframe tbody tr th:only-of-type {\n",
       "        vertical-align: middle;\n",
       "    }\n",
       "\n",
       "    .dataframe tbody tr th {\n",
       "        vertical-align: top;\n",
       "    }\n",
       "\n",
       "    .dataframe thead th {\n",
       "        text-align: right;\n",
       "    }\n",
       "</style>\n",
       "<table border=\"1\" class=\"dataframe\">\n",
       "  <thead>\n",
       "    <tr style=\"text-align: right;\">\n",
       "      <th></th>\n",
       "      <th>Name</th>\n",
       "      <th>Age</th>\n",
       "    </tr>\n",
       "  </thead>\n",
       "  <tbody>\n",
       "    <tr>\n",
       "      <th>0</th>\n",
       "      <td>Alex</td>\n",
       "      <td>10</td>\n",
       "    </tr>\n",
       "    <tr>\n",
       "      <th>1</th>\n",
       "      <td>Bob</td>\n",
       "      <td>12</td>\n",
       "    </tr>\n",
       "    <tr>\n",
       "      <th>2</th>\n",
       "      <td>Clarke</td>\n",
       "      <td>13</td>\n",
       "    </tr>\n",
       "  </tbody>\n",
       "</table>\n",
       "</div>"
      ],
      "text/plain": [
       "     Name  Age\n",
       "0    Alex   10\n",
       "1     Bob   12\n",
       "2  Clarke   13"
      ]
     },
     "execution_count": 192,
     "metadata": {},
     "output_type": "execute_result"
    }
   ],
   "source": [
    "import pandas as pd\n",
    "data = [['Alex', 10], ['Bob', 12], ['Clarke', 13]]\n",
    "df = pd.DataFrame(data, columns=['Name', 'Age'])\n",
    "print(df)\n",
    "df.to_csv('dfX.csv', index=False)\n",
    "dataXZ = pd.read_csv('dfX.csv')\n",
    "dataXZ.head()\n"
   ]
  },
  {
   "cell_type": "code",
   "execution_count": 193,
   "id": "797c02dd",
   "metadata": {},
   "outputs": [
    {
     "data": {
      "text/plain": [
       "Name    Alex\n",
       "Age       10\n",
       "Name: 0, dtype: object"
      ]
     },
     "execution_count": 193,
     "metadata": {},
     "output_type": "execute_result"
    }
   ],
   "source": [
    "dataXZ.iloc[0, :]"
   ]
  },
  {
   "cell_type": "code",
   "execution_count": 194,
   "id": "d9a28b75",
   "metadata": {},
   "outputs": [
    {
     "name": "stdout",
     "output_type": "stream",
     "text": [
      "       id;type_emplacement;domanialite;arrondissement;complement_addresse;numero;lieu;id_emplacement;libelle_francais;genre;espece;variete;circonference_cm;hauteur_m;stade_developpement;remarquable;geo_point_2d_a;geo_point_2d_b\n",
      "0       99874;Arbre;Jardin;PARIS 7E ARRDT;;;MAIRIE DU ...                                                                                                                                                                          \n",
      "1       99875;Arbre;Jardin;PARIS 7E ARRDT;;;MAIRIE DU ...                                                                                                                                                                          \n",
      "2       99876;Arbre;Jardin;PARIS 7E ARRDT;;;MAIRIE DU ...                                                                                                                                                                          \n",
      "3       99877;Arbre;Jardin;PARIS 7E ARRDT;;;MAIRIE DU ...                                                                                                                                                                          \n",
      "4       99878;Arbre;Jardin;PARIS 17E ARRDT;;;PARC CLIC...                                                                                                                                                                          \n",
      "...                                                   ...                                                                                                                                                                          \n",
      "200132  2024741;Arbre;Jardin;BOIS DE VINCENNES;;;ARBOR...                                                                                                                                                                          \n",
      "200133  2024742;Arbre;Jardin;BOIS DE VINCENNES;;;ARBOR...                                                                                                                                                                          \n",
      "200134  2024743;Arbre;Jardin;BOIS DE VINCENNES;;;ARBOR...                                                                                                                                                                          \n",
      "200135  2024744;Arbre;Jardin;BOIS DE VINCENNES;;;ARBOR...                                                                                                                                                                          \n",
      "200136  2024745;Arbre;Jardin;BOIS DE VINCENNES;;;ARBOR...                                                                                                                                                                          \n",
      "\n",
      "[200137 rows x 1 columns]\n"
     ]
    },
    {
     "data": {
      "text/plain": [
       "array(['99874;Arbre;Jardin;PARIS 7E ARRDT;;;MAIRIE DU 7E 116 RUE DE GRENELLE PARIS 7E;19;Marronnier;Aesculus;hippocastanum;;20;5;;0;48.8576199541;2.3209621099'],\n",
       "      dtype=object)"
      ]
     },
     "execution_count": 194,
     "metadata": {},
     "output_type": "execute_result"
    }
   ],
   "source": [
    "import pandas as pd\n",
    "import numpy as np\n",
    "\n",
    "dataTab = pd.read_fwf('p2-arbres-fr.csv')\n",
    "print(dataTab)\n",
    "data = np.array(dataTab)\n",
    "#sélection d'une ligne entière\n",
    "data[0, :]"
   ]
  },
  {
   "cell_type": "code",
   "execution_count": 195,
   "id": "866ee805",
   "metadata": {},
   "outputs": [
    {
     "name": "stdout",
     "output_type": "stream",
     "text": [
      "  Identifiant  Type  Emplacement  Domanialité  Arrondissement  \\\n",
      "0        test     0            0            0               0   \n",
      "\n",
      "   Completment adresse  Numéro de rue  Adresse  Identifiant Emplacement  \\\n",
      "0                    0              0        0                        0   \n",
      "\n",
      "   Libellé français  Genre  Espèce  Variété  Circonférence (cm)  Hauteur (m)  \\\n",
      "0                 0      0       0        0                   0            0   \n",
      "\n",
      "   Stade de développement  Remarquable  Latitude (dd)  Longitude (dd)  \n",
      "0                       0            0              0               0  \n"
     ]
    },
    {
     "data": {
      "text/html": [
       "<div>\n",
       "<style scoped>\n",
       "    .dataframe tbody tr th:only-of-type {\n",
       "        vertical-align: middle;\n",
       "    }\n",
       "\n",
       "    .dataframe tbody tr th {\n",
       "        vertical-align: top;\n",
       "    }\n",
       "\n",
       "    .dataframe thead th {\n",
       "        text-align: right;\n",
       "    }\n",
       "</style>\n",
       "<table border=\"1\" class=\"dataframe\">\n",
       "  <thead>\n",
       "    <tr style=\"text-align: right;\">\n",
       "      <th></th>\n",
       "      <th>Identifiant</th>\n",
       "      <th>Type</th>\n",
       "      <th>Emplacement</th>\n",
       "      <th>Domanialité</th>\n",
       "      <th>Arrondissement</th>\n",
       "      <th>Completment adresse</th>\n",
       "      <th>Numéro de rue</th>\n",
       "      <th>Adresse</th>\n",
       "      <th>Identifiant Emplacement</th>\n",
       "      <th>Libellé français</th>\n",
       "      <th>Genre</th>\n",
       "      <th>Espèce</th>\n",
       "      <th>Variété</th>\n",
       "      <th>Circonférence (cm)</th>\n",
       "      <th>Hauteur (m)</th>\n",
       "      <th>Stade de développement</th>\n",
       "      <th>Remarquable</th>\n",
       "      <th>Latitude (dd)</th>\n",
       "      <th>Longitude (dd)</th>\n",
       "    </tr>\n",
       "  </thead>\n",
       "  <tbody>\n",
       "    <tr>\n",
       "      <th>0</th>\n",
       "      <td>test</td>\n",
       "      <td>0</td>\n",
       "      <td>0</td>\n",
       "      <td>0</td>\n",
       "      <td>0</td>\n",
       "      <td>0</td>\n",
       "      <td>0</td>\n",
       "      <td>0</td>\n",
       "      <td>0</td>\n",
       "      <td>0</td>\n",
       "      <td>0</td>\n",
       "      <td>0</td>\n",
       "      <td>0</td>\n",
       "      <td>0</td>\n",
       "      <td>0</td>\n",
       "      <td>0</td>\n",
       "      <td>0</td>\n",
       "      <td>0</td>\n",
       "      <td>0</td>\n",
       "    </tr>\n",
       "  </tbody>\n",
       "</table>\n",
       "</div>"
      ],
      "text/plain": [
       "  Identifiant  Type  Emplacement  Domanialité  Arrondissement  \\\n",
       "0        test     0            0            0               0   \n",
       "\n",
       "   Completment adresse  Numéro de rue  Adresse  Identifiant Emplacement  \\\n",
       "0                    0              0        0                        0   \n",
       "\n",
       "   Libellé français  Genre  Espèce  Variété  Circonférence (cm)  Hauteur (m)  \\\n",
       "0                 0      0       0        0                   0            0   \n",
       "\n",
       "   Stade de développement  Remarquable  Latitude (dd)  Longitude (dd)  \n",
       "0                       0            0              0               0  "
      ]
     },
     "execution_count": 195,
     "metadata": {},
     "output_type": "execute_result"
    }
   ],
   "source": [
    "data_corrected = [[\"test\", 0, 0, 0, 0, 0, 0, 0, 0, 0, 0, 0, 0, 0, 0, 0, 0, 0, 0]]\n",
    "df = pd.DataFrame(data_corrected, columns=['Identifiant', 'Type', 'Emplacement', \n",
    "                                 'Domanialité', 'Arrondissement', 'Completment adresse', 'Numéro de rue', 'Adresse', \n",
    "                                'Identifiant Emplacement', 'Libellé français', 'Genre', 'Espèce', 'Variété',\n",
    "                                'Circonférence (cm)', 'Hauteur (m)', 'Stade de développement', 'Remarquable',\n",
    "                                'Latitude (dd)', 'Longitude (dd)'])\n",
    "print(df)\n",
    "df.to_csv('arbre.csv', index=False)\n",
    "dataXZ = pd.read_csv('arbre.csv')\n",
    "dataXZ.head()"
   ]
  },
  {
   "cell_type": "code",
   "execution_count": 196,
   "id": "24a428ec",
   "metadata": {},
   "outputs": [
    {
     "data": {
      "text/plain": [
       "'99874;Arbre;Jardin;PARIS 7E ARRDT;;;MAIRIE DU 7E 116 RUE DE GRENELLE PARIS 7E;19;Marronnier;Aesculus;hippocastanum;;20;5;;0;48.8576199541;2.3209621099'"
      ]
     },
     "execution_count": 196,
     "metadata": {},
     "output_type": "execute_result"
    }
   ],
   "source": [
    "data[0, 0]"
   ]
  },
  {
   "cell_type": "code",
   "execution_count": 197,
   "id": "be873be8",
   "metadata": {},
   "outputs": [],
   "source": [
    "#supprimer des informations séparés par une virgule\n",
    "#n=1 correspond au nombre de séparation\n",
    "#expand=True permet de ranger dans un tableau les différentes séparations\n",
    "# [0] permet de garder la première séparation\n",
    "#test = \"99874;Arbre;Jardin;PARIS 7E ARRDT;;;MAIRIE\"\n",
    "df['Identifiant'] = int(dataTab.iloc[0, :].str.split(';', n=1, expand=True)[0])"
   ]
  },
  {
   "cell_type": "code",
   "execution_count": 198,
   "id": "e5015f3f",
   "metadata": {},
   "outputs": [
    {
     "data": {
      "text/html": [
       "<div>\n",
       "<style scoped>\n",
       "    .dataframe tbody tr th:only-of-type {\n",
       "        vertical-align: middle;\n",
       "    }\n",
       "\n",
       "    .dataframe tbody tr th {\n",
       "        vertical-align: top;\n",
       "    }\n",
       "\n",
       "    .dataframe thead th {\n",
       "        text-align: right;\n",
       "    }\n",
       "</style>\n",
       "<table border=\"1\" class=\"dataframe\">\n",
       "  <thead>\n",
       "    <tr style=\"text-align: right;\">\n",
       "      <th></th>\n",
       "      <th>Identifiant</th>\n",
       "      <th>Type</th>\n",
       "      <th>Emplacement</th>\n",
       "      <th>Domanialité</th>\n",
       "      <th>Arrondissement</th>\n",
       "      <th>Completment adresse</th>\n",
       "      <th>Numéro de rue</th>\n",
       "      <th>Adresse</th>\n",
       "      <th>Identifiant Emplacement</th>\n",
       "      <th>Libellé français</th>\n",
       "      <th>Genre</th>\n",
       "      <th>Espèce</th>\n",
       "      <th>Variété</th>\n",
       "      <th>Circonférence (cm)</th>\n",
       "      <th>Hauteur (m)</th>\n",
       "      <th>Stade de développement</th>\n",
       "      <th>Remarquable</th>\n",
       "      <th>Latitude (dd)</th>\n",
       "      <th>Longitude (dd)</th>\n",
       "    </tr>\n",
       "  </thead>\n",
       "  <tbody>\n",
       "    <tr>\n",
       "      <th>0</th>\n",
       "      <td>99874</td>\n",
       "      <td>0</td>\n",
       "      <td>0</td>\n",
       "      <td>0</td>\n",
       "      <td>0</td>\n",
       "      <td>0</td>\n",
       "      <td>0</td>\n",
       "      <td>0</td>\n",
       "      <td>0</td>\n",
       "      <td>0</td>\n",
       "      <td>0</td>\n",
       "      <td>0</td>\n",
       "      <td>0</td>\n",
       "      <td>0</td>\n",
       "      <td>0</td>\n",
       "      <td>0</td>\n",
       "      <td>0</td>\n",
       "      <td>0</td>\n",
       "      <td>0</td>\n",
       "    </tr>\n",
       "  </tbody>\n",
       "</table>\n",
       "</div>"
      ],
      "text/plain": [
       "   Identifiant  Type  Emplacement  Domanialité  Arrondissement  \\\n",
       "0        99874     0            0            0               0   \n",
       "\n",
       "   Completment adresse  Numéro de rue  Adresse  Identifiant Emplacement  \\\n",
       "0                    0              0        0                        0   \n",
       "\n",
       "   Libellé français  Genre  Espèce  Variété  Circonférence (cm)  Hauteur (m)  \\\n",
       "0                 0      0       0        0                   0            0   \n",
       "\n",
       "   Stade de développement  Remarquable  Latitude (dd)  Longitude (dd)  \n",
       "0                       0            0              0               0  "
      ]
     },
     "execution_count": 198,
     "metadata": {},
     "output_type": "execute_result"
    }
   ],
   "source": [
    "df"
   ]
  },
  {
   "cell_type": "code",
   "execution_count": 199,
   "id": "48f89dcf",
   "metadata": {},
   "outputs": [
    {
     "name": "stdout",
     "output_type": "stream",
     "text": [
      "Arbre\n"
     ]
    }
   ],
   "source": [
    "#print(dataTab.iloc[0, :].str.split(';', n=1, expand=True)[0].to_string())\n",
    "print(dataTab.iloc[0, :].str.split(';', n=2, expand=True)[1].to_string(header=None, index=False))"
   ]
  },
  {
   "cell_type": "code",
   "execution_count": 200,
   "id": "d3105d19",
   "metadata": {},
   "outputs": [
    {
     "name": "stdout",
     "output_type": "stream",
     "text": [
      "99874 Arbre Jardin PARIS 7E ARRDT   MAIRIE DU 7E 116 RUE DE GRENELLE PARIS 7E 19 Marronnier Aesculus hippocastanum  20 5  0 48.8576199541 2.3209621099\n"
     ]
    }
   ],
   "source": [
    "print(dataTab.iloc[0, :].str.split(';', n=18, expand=True)[:].to_string(header=None, index=False))"
   ]
  },
  {
   "cell_type": "code",
   "execution_count": 219,
   "id": "6818bd7b",
   "metadata": {},
   "outputs": [],
   "source": [
    "df['Identifiant'] = dataTab.iloc[0, :].str.split(';', n=18, expand=True)[0].to_string(header=None, index=False)\n",
    "df['Type'] = dataTab.iloc[0, :].str.split(';', n=18, expand=True)[1].to_string(header=None, index=False)\n",
    "df['Emplacement'] = dataTab.iloc[0, :].str.split(';', n=18, expand=True)[2].to_string(header=None, index=False)\n",
    "df['Domanialité'] = dataTab.iloc[0, :].str.split(';', n=18, expand=True)[3].to_string(header=None, index=False)\n",
    "df['Libellé français'] = dataTab.iloc[0, :].str.split(';', n=18, expand=True)[8].to_string(header=None, index=False)\n",
    "df['Genre'] = dataTab.iloc[0, :].str.split(';', n=18, expand=True)[9].to_string(header=None, index=False)\n",
    "df['Espèce'] = dataTab.iloc[0, :].str.split(';', n=18, expand=True)[10].to_string(header=None, index=False)\n",
    "df['Variété'] = dataTab.iloc[0, :].str.split(';', n=18, expand=True)[11].to_string(header=None, index=False)\n",
    "df['Circonférence (cm)'] = dataTab.iloc[0, :].str.split(';', n=18, expand=True)[12].to_string(header=None, index=False)\n",
    "df['Hauteur (m)'] = dataTab.iloc[0, :].str.split(';', n=18, expand=True)[13].to_string(header=None, index=False)"
   ]
  },
  {
   "cell_type": "code",
   "execution_count": 220,
   "id": "52605826",
   "metadata": {},
   "outputs": [
    {
     "data": {
      "text/html": [
       "<div>\n",
       "<style scoped>\n",
       "    .dataframe tbody tr th:only-of-type {\n",
       "        vertical-align: middle;\n",
       "    }\n",
       "\n",
       "    .dataframe tbody tr th {\n",
       "        vertical-align: top;\n",
       "    }\n",
       "\n",
       "    .dataframe thead th {\n",
       "        text-align: right;\n",
       "    }\n",
       "</style>\n",
       "<table border=\"1\" class=\"dataframe\">\n",
       "  <thead>\n",
       "    <tr style=\"text-align: right;\">\n",
       "      <th></th>\n",
       "      <th>Identifiant</th>\n",
       "      <th>Type</th>\n",
       "      <th>Emplacement</th>\n",
       "      <th>Domanialité</th>\n",
       "      <th>Arrondissement</th>\n",
       "      <th>Completment adresse</th>\n",
       "      <th>Numéro de rue</th>\n",
       "      <th>Adresse</th>\n",
       "      <th>Identifiant Emplacement</th>\n",
       "      <th>Libellé français</th>\n",
       "      <th>Genre</th>\n",
       "      <th>Espèce</th>\n",
       "      <th>Variété</th>\n",
       "      <th>Circonférence (cm)</th>\n",
       "      <th>Hauteur (m)</th>\n",
       "      <th>Stade de développement</th>\n",
       "      <th>Remarquable</th>\n",
       "      <th>Latitude (dd)</th>\n",
       "      <th>Longitude (dd)</th>\n",
       "    </tr>\n",
       "  </thead>\n",
       "  <tbody>\n",
       "    <tr>\n",
       "      <th>0</th>\n",
       "      <td>99874</td>\n",
       "      <td>Arbre</td>\n",
       "      <td>Jardin</td>\n",
       "      <td>PARIS 7E ARRDT</td>\n",
       "      <td>0</td>\n",
       "      <td>0</td>\n",
       "      <td>0</td>\n",
       "      <td>0</td>\n",
       "      <td>0</td>\n",
       "      <td>Marronnier</td>\n",
       "      <td>Aesculus</td>\n",
       "      <td>hippocastanum</td>\n",
       "      <td></td>\n",
       "      <td>20</td>\n",
       "      <td>5</td>\n",
       "      <td>0</td>\n",
       "      <td>0</td>\n",
       "      <td>0</td>\n",
       "      <td>0</td>\n",
       "    </tr>\n",
       "  </tbody>\n",
       "</table>\n",
       "</div>"
      ],
      "text/plain": [
       "  Identifiant   Type Emplacement     Domanialité  Arrondissement  \\\n",
       "0       99874  Arbre      Jardin  PARIS 7E ARRDT               0   \n",
       "\n",
       "   Completment adresse  Numéro de rue  Adresse  Identifiant Emplacement  \\\n",
       "0                    0              0        0                        0   \n",
       "\n",
       "  Libellé français     Genre         Espèce Variété Circonférence (cm)  \\\n",
       "0       Marronnier  Aesculus  hippocastanum                         20   \n",
       "\n",
       "  Hauteur (m)  Stade de développement  Remarquable  Latitude (dd)  \\\n",
       "0           5                       0            0              0   \n",
       "\n",
       "   Longitude (dd)  \n",
       "0               0  "
      ]
     },
     "execution_count": 220,
     "metadata": {},
     "output_type": "execute_result"
    }
   ],
   "source": [
    "df"
   ]
  },
  {
   "cell_type": "code",
   "execution_count": null,
   "id": "ca87519c",
   "metadata": {},
   "outputs": [],
   "source": []
  }
 ],
 "metadata": {
  "kernelspec": {
   "display_name": "Python 3 (ipykernel)",
   "language": "python",
   "name": "python3"
  },
  "language_info": {
   "codemirror_mode": {
    "name": "ipython",
    "version": 3
   },
   "file_extension": ".py",
   "mimetype": "text/x-python",
   "name": "python",
   "nbconvert_exporter": "python",
   "pygments_lexer": "ipython3",
   "version": "3.10.9"
  }
 },
 "nbformat": 4,
 "nbformat_minor": 5
}
