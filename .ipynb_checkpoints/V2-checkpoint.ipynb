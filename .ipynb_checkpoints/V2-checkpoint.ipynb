{
 "cells": [
  {
   "cell_type": "code",
   "execution_count": 12,
   "id": "9b033fcf",
   "metadata": {},
   "outputs": [
    {
     "data": {
      "text/html": [
       "<div>\n",
       "<style scoped>\n",
       "    .dataframe tbody tr th:only-of-type {\n",
       "        vertical-align: middle;\n",
       "    }\n",
       "\n",
       "    .dataframe tbody tr th {\n",
       "        vertical-align: top;\n",
       "    }\n",
       "\n",
       "    .dataframe thead th {\n",
       "        text-align: right;\n",
       "    }\n",
       "</style>\n",
       "<table border=\"1\" class=\"dataframe\">\n",
       "  <thead>\n",
       "    <tr style=\"text-align: right;\">\n",
       "      <th></th>\n",
       "      <th>id;type_emplacement;domanialite;arrondissement;complement_addresse;numero;lieu;id_emplacement;libelle_francais;genre;espece;variete;circonference_cm;hauteur_m;stade_developpement;remarquable;geo_point_2d_a;geo_point_2d_b</th>\n",
       "    </tr>\n",
       "  </thead>\n",
       "  <tbody>\n",
       "    <tr>\n",
       "      <th>0</th>\n",
       "      <td>99874;Arbre;Jardin;PARIS 7E ARRDT;;;MAIRIE DU ...</td>\n",
       "    </tr>\n",
       "    <tr>\n",
       "      <th>1</th>\n",
       "      <td>99875;Arbre;Jardin;PARIS 7E ARRDT;;;MAIRIE DU ...</td>\n",
       "    </tr>\n",
       "    <tr>\n",
       "      <th>2</th>\n",
       "      <td>99876;Arbre;Jardin;PARIS 7E ARRDT;;;MAIRIE DU ...</td>\n",
       "    </tr>\n",
       "    <tr>\n",
       "      <th>3</th>\n",
       "      <td>99877;Arbre;Jardin;PARIS 7E ARRDT;;;MAIRIE DU ...</td>\n",
       "    </tr>\n",
       "    <tr>\n",
       "      <th>4</th>\n",
       "      <td>99878;Arbre;Jardin;PARIS 17E ARRDT;;;PARC CLIC...</td>\n",
       "    </tr>\n",
       "  </tbody>\n",
       "</table>\n",
       "</div>"
      ],
      "text/plain": [
       "  id;type_emplacement;domanialite;arrondissement;complement_addresse;numero;lieu;id_emplacement;libelle_francais;genre;espece;variete;circonference_cm;hauteur_m;stade_developpement;remarquable;geo_point_2d_a;geo_point_2d_b\n",
       "0  99874;Arbre;Jardin;PARIS 7E ARRDT;;;MAIRIE DU ...                                                                                                                                                                          \n",
       "1  99875;Arbre;Jardin;PARIS 7E ARRDT;;;MAIRIE DU ...                                                                                                                                                                          \n",
       "2  99876;Arbre;Jardin;PARIS 7E ARRDT;;;MAIRIE DU ...                                                                                                                                                                          \n",
       "3  99877;Arbre;Jardin;PARIS 7E ARRDT;;;MAIRIE DU ...                                                                                                                                                                          \n",
       "4  99878;Arbre;Jardin;PARIS 17E ARRDT;;;PARC CLIC...                                                                                                                                                                          "
      ]
     },
     "execution_count": 12,
     "metadata": {},
     "output_type": "execute_result"
    }
   ],
   "source": [
    "import pandas as pd\n",
    "import numpy as np\n",
    "\n",
    "#chargement et affichage des données\n",
    "data = pd.read_csv('p2-arbres-fr.csv')\n",
    "data.head()"
   ]
  },
  {
   "cell_type": "code",
   "execution_count": 13,
   "id": "3166975d",
   "metadata": {},
   "outputs": [
    {
     "data": {
      "text/plain": [
       "(200137, 1)"
      ]
     },
     "execution_count": 13,
     "metadata": {},
     "output_type": "execute_result"
    }
   ],
   "source": [
    "#On remarque que le tableau ne comporte qu'une seule colonne et 200k lignes\n",
    "data.shape"
   ]
  },
  {
   "cell_type": "code",
   "execution_count": 14,
   "id": "5cfbd369",
   "metadata": {},
   "outputs": [
    {
     "data": {
      "text/plain": [
       "array(['99874;Arbre;Jardin;PARIS 7E ARRDT;;;MAIRIE DU 7E 116 RUE DE GRENELLE PARIS 7E;19;Marronnier;Aesculus;hippocastanum;;20;5;;0;48.8576199541;2.3209621099'],\n",
       "      dtype=object)"
      ]
     },
     "execution_count": 14,
     "metadata": {},
     "output_type": "execute_result"
    }
   ],
   "source": [
    "data_array = np.array(data)\n",
    "data_array[0, :]"
   ]
  },
  {
   "cell_type": "code",
   "execution_count": 34,
   "id": "61e84e84",
   "metadata": {},
   "outputs": [
    {
     "data": {
      "text/html": [
       "<div>\n",
       "<style scoped>\n",
       "    .dataframe tbody tr th:only-of-type {\n",
       "        vertical-align: middle;\n",
       "    }\n",
       "\n",
       "    .dataframe tbody tr th {\n",
       "        vertical-align: top;\n",
       "    }\n",
       "\n",
       "    .dataframe thead th {\n",
       "        text-align: right;\n",
       "    }\n",
       "</style>\n",
       "<table border=\"1\" class=\"dataframe\">\n",
       "  <thead>\n",
       "    <tr style=\"text-align: right;\">\n",
       "      <th></th>\n",
       "      <th>Identifiant</th>\n",
       "      <th>Type</th>\n",
       "      <th>Emplacement</th>\n",
       "      <th>Domanialité</th>\n",
       "      <th>Libellé français</th>\n",
       "      <th>Genre</th>\n",
       "      <th>Espèce</th>\n",
       "      <th>Variété</th>\n",
       "      <th>Circonférence (cm)</th>\n",
       "      <th>Hauteur (m)</th>\n",
       "    </tr>\n",
       "  </thead>\n",
       "  <tbody>\n",
       "    <tr>\n",
       "      <th>0</th>\n",
       "      <td>0.0</td>\n",
       "      <td>0.0</td>\n",
       "      <td>0.0</td>\n",
       "      <td>0.0</td>\n",
       "      <td>0.0</td>\n",
       "      <td>0.0</td>\n",
       "      <td>0.0</td>\n",
       "      <td>0.0</td>\n",
       "      <td>0.0</td>\n",
       "      <td>0.0</td>\n",
       "    </tr>\n",
       "  </tbody>\n",
       "</table>\n",
       "</div>"
      ],
      "text/plain": [
       "   Identifiant  Type  Emplacement  Domanialité  Libellé français  Genre  \\\n",
       "0          0.0   0.0          0.0          0.0               0.0    0.0   \n",
       "\n",
       "   Espèce  Variété  Circonférence (cm)  Hauteur (m)  \n",
       "0     0.0      0.0                 0.0          0.0  "
      ]
     },
     "execution_count": 34,
     "metadata": {},
     "output_type": "execute_result"
    }
   ],
   "source": [
    "#on constate que dans l'unique colonne il y a de nombreuses informations mal séparé par des points virgules\n",
    "#on crée un nouveau tableau avec de bonne colonne et on y mettra les valeurs correspondantes\n",
    "data_corrected = np.zeros((1, 10))\n",
    "df = pd.DataFrame(data_corrected, columns=['Identifiant', 'Type', 'Emplacement', \n",
    "                                 'Domanialité', 'Libellé français', 'Genre', 'Espèce', 'Variété',\n",
    "                                'Circonférence (cm)', 'Hauteur (m)'])\n",
    "df"
   ]
  },
  {
   "cell_type": "code",
   "execution_count": 37,
   "id": "9b2659c5",
   "metadata": {},
   "outputs": [],
   "source": [
    "#on va remplir le tableau avec les valeurs correspondantes\n",
    "df['Identifiant'] = data.iloc[0, :].str.split(';', n=18, expand=True)[0].to_string(header=None, index=False)\n",
    "df['Type'] = data.iloc[0, :].str.split(';', n=18, expand=True)[1].to_string(header=None, index=False)\n",
    "df['Emplacement'] = data.iloc[0, :].str.split(';', n=18, expand=True)[2].to_string(header=None, index=False)\n",
    "df['Domanialité'] = data.iloc[0, :].str.split(';', n=18, expand=True)[3].to_string(header=None, index=False)\n",
    "df['Libellé français'] = data.iloc[0, :].str.split(';', n=18, expand=True)[8].to_string(header=None, index=False)\n",
    "df['Genre'] = data.iloc[0, :].str.split(';', n=18, expand=True)[9].to_string(header=None, index=False)\n",
    "df['Espèce'] = data.iloc[0, :].str.split(';', n=18, expand=True)[10].to_string(header=None, index=False)\n",
    "df['Variété'] = data.iloc[0, :].str.split(';', n=18, expand=True)[11].to_string(header=None, index=False)\n",
    "df['Circonférence (cm)'] = data.iloc[0, :].str.split(';', n=18, expand=True)[12].to_string(header=None, index=False)\n",
    "df['Hauteur (m)'] = data.iloc[0, :].str.split(';', n=18, expand=True)[13].to_string(header=None, index=False)"
   ]
  },
  {
   "cell_type": "code",
   "execution_count": 32,
   "id": "42d813a7",
   "metadata": {},
   "outputs": [
    {
     "data": {
      "text/html": [
       "<div>\n",
       "<style scoped>\n",
       "    .dataframe tbody tr th:only-of-type {\n",
       "        vertical-align: middle;\n",
       "    }\n",
       "\n",
       "    .dataframe tbody tr th {\n",
       "        vertical-align: top;\n",
       "    }\n",
       "\n",
       "    .dataframe thead th {\n",
       "        text-align: right;\n",
       "    }\n",
       "</style>\n",
       "<table border=\"1\" class=\"dataframe\">\n",
       "  <thead>\n",
       "    <tr style=\"text-align: right;\">\n",
       "      <th></th>\n",
       "      <th>Identifiant</th>\n",
       "      <th>Type</th>\n",
       "      <th>Emplacement</th>\n",
       "      <th>Domanialité</th>\n",
       "      <th>Libellé français</th>\n",
       "      <th>Genre</th>\n",
       "      <th>Espèce</th>\n",
       "      <th>Variété</th>\n",
       "      <th>Circonférence (cm)</th>\n",
       "      <th>Hauteur (m)</th>\n",
       "    </tr>\n",
       "  </thead>\n",
       "  <tbody>\n",
       "    <tr>\n",
       "      <th>0</th>\n",
       "      <td>99874</td>\n",
       "      <td>Arbre</td>\n",
       "      <td>Jardin</td>\n",
       "      <td>PARIS 7E ARRDT</td>\n",
       "      <td>Marronnier</td>\n",
       "      <td>Aesculus</td>\n",
       "      <td>hippocastanum</td>\n",
       "      <td></td>\n",
       "      <td>20</td>\n",
       "      <td>5</td>\n",
       "    </tr>\n",
       "  </tbody>\n",
       "</table>\n",
       "</div>"
      ],
      "text/plain": [
       "  Identifiant   Type Emplacement     Domanialité Libellé français     Genre  \\\n",
       "0       99874  Arbre      Jardin  PARIS 7E ARRDT       Marronnier  Aesculus   \n",
       "\n",
       "          Espèce Variété Circonférence (cm) Hauteur (m)  \n",
       "0  hippocastanum                         20           5  "
      ]
     },
     "execution_count": 32,
     "metadata": {},
     "output_type": "execute_result"
    }
   ],
   "source": [
    "df"
   ]
  },
  {
   "cell_type": "code",
   "execution_count": null,
   "id": "efd9377b",
   "metadata": {},
   "outputs": [],
   "source": []
  },
  {
   "cell_type": "code",
   "execution_count": null,
   "id": "e58565e6",
   "metadata": {},
   "outputs": [],
   "source": []
  }
 ],
 "metadata": {
  "kernelspec": {
   "display_name": "Python 3 (ipykernel)",
   "language": "python",
   "name": "python3"
  },
  "language_info": {
   "codemirror_mode": {
    "name": "ipython",
    "version": 3
   },
   "file_extension": ".py",
   "mimetype": "text/x-python",
   "name": "python",
   "nbconvert_exporter": "python",
   "pygments_lexer": "ipython3",
   "version": "3.10.9"
  }
 },
 "nbformat": 4,
 "nbformat_minor": 5
}
